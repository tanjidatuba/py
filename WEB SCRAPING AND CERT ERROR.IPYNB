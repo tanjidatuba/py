{
 "cells": [
  {
   "cell_type": "code",
   "execution_count": 1,
   "id": "926c5afb",
   "metadata": {},
   "outputs": [],
   "source": [
    "from bs4 import BeautifulSoup"
   ]
  },
  {
   "cell_type": "code",
   "execution_count": 2,
   "id": "19672fd7",
   "metadata": {},
   "outputs": [],
   "source": [
    "import urllib.request"
   ]
  },
  {
   "cell_type": "code",
   "execution_count": 3,
   "id": "fe838529",
   "metadata": {},
   "outputs": [],
   "source": [
    "import urllib.parse"
   ]
  },
  {
   "cell_type": "code",
   "execution_count": 4,
   "id": "b9ea2497",
   "metadata": {},
   "outputs": [],
   "source": [
    "import urllib.error"
   ]
  },
  {
   "cell_type": "code",
   "execution_count": 5,
   "id": "56c33d13",
   "metadata": {},
   "outputs": [],
   "source": [
    "import ssl\n"
   ]
  },
  {
   "cell_type": "code",
   "execution_count": 6,
   "id": "beb9818d",
   "metadata": {},
   "outputs": [],
   "source": [
    "#ignoring SSL certificate errors\n",
    "ctx = ssl.create_default_context()\n",
    "ctx.check_hostname = False\n",
    "ctx.verify_mode = ssl.CERT_NONE"
   ]
  },
  {
   "cell_type": "code",
   "execution_count": 14,
   "id": "07bd9941",
   "metadata": {},
   "outputs": [
    {
     "name": "stdout",
     "output_type": "stream",
     "text": [
      "Enter -https://github.com/tanjidatuba\n",
      "#start-of-content\n",
      "https://github.com/\n",
      "/signup?ref_cta=Sign+up&ref_loc=header+logged+out&ref_page=%2F%3Cuser-name%3E&source=header\n",
      "/features/actions\n",
      "/features/packages\n",
      "/features/security\n",
      "/features/codespaces\n",
      "/features/copilot\n",
      "/features/code-review\n",
      "/features/issues\n",
      "/features/discussions\n",
      "/features\n",
      "https://docs.github.com\n",
      "https://skills.github.com/\n",
      "https://github.blog\n",
      "/enterprise\n",
      "/team\n",
      "/enterprise/startups\n",
      "https://education.github.com\n",
      "/solutions/ci-cd/\n",
      "https://resources.github.com/devops/\n",
      "https://resources.github.com/devops/fundamentals/devsecops/\n",
      "/customer-stories\n",
      "https://resources.github.com/\n",
      "/sponsors\n",
      "/readme\n",
      "/topics\n",
      "/trending\n",
      "/collections\n",
      "/pricing\n",
      "\n",
      "\n",
      "\n",
      "\n",
      "/login?return_to=https%3A%2F%2Fgithub.com%2Ftanjidatuba\n",
      "/signup?ref_cta=Sign+up&ref_loc=header+logged+out&ref_page=%2F%3Cuser-name%3E&source=header\n",
      "/login?return_to=https%3A%2F%2Fgithub.com%2Ftanjidatuba\n",
      "/tanjidatuba\n",
      "/tanjidatuba?tab=repositories\n",
      "/tanjidatuba?tab=projects\n",
      "/tanjidatuba?tab=packages\n",
      "/tanjidatuba?tab=stars\n",
      "/tanjidatuba\n",
      "/tanjidatuba?tab=repositories\n",
      "/tanjidatuba?tab=projects\n",
      "/tanjidatuba?tab=packages\n",
      "/tanjidatuba?tab=stars\n",
      "/login?return_to=https%3A%2F%2Fgithub.com%2Ftanjidatuba\n",
      "https://avatars.githubusercontent.com/u/100321417?v=4\n",
      "/login?return_to=https%3A%2F%2Fgithub.com%2Ftanjidatuba\n",
      "https://docs.github.com/en/articles/blocking-a-user-from-your-personal-account\n",
      "https://docs.github.com/en/articles/reporting-abuse-or-spam\n",
      "/contact/report-abuse?report=tanjidatuba+%28user%29\n",
      "/tanjidatuba\n",
      "/tanjidatuba?tab=repositories\n",
      "/tanjidatuba?tab=projects\n",
      "/tanjidatuba?tab=packages\n",
      "/tanjidatuba?tab=stars\n",
      "/tanjidatuba\n",
      "/tanjidatuba?tab=repositories\n",
      "/tanjidatuba?tab=projects\n",
      "/tanjidatuba?tab=packages\n",
      "/tanjidatuba?tab=stars\n",
      "/tanjidatuba/bayesian_optimization\n",
      "/tanjidatuba/py\n",
      "/codebasics/py\n",
      "/tanjidatuba/Cornell-MOE\n",
      "/wujian16/Cornell-MOE\n",
      "/tanjidatuba/tanjida\n",
      "/tanjidatuba/Covid-Data-exploration\n",
      "/tanjidatuba/Etheryum-predict\n",
      "https://docs.github.com/articles/why-are-my-contributions-not-showing-up-on-my-profile\n",
      "/tanjidatuba?tab=overview&from=2023-03-01&to=2023-03-01\n",
      "/tanjidatuba?tab=overview&from=2022-12-01&to=2022-12-31\n",
      "https://docs.github.com/categories/setting-up-and-managing-your-github-profile\n",
      "https://github.com\n",
      "https://docs.github.com/site-policy/github-terms/github-terms-of-service\n",
      "https://docs.github.com/site-policy/privacy-policies/github-privacy-statement\n",
      "https://github.com/security\n",
      "https://www.githubstatus.com/\n",
      "https://docs.github.com\n",
      "https://support.github.com?tags=dotcom-footer\n",
      "https://github.com/pricing\n",
      "https://docs.github.com\n",
      "https://services.github.com\n",
      "https://github.blog\n",
      "https://github.com/about\n",
      "\n",
      "\n"
     ]
    }
   ],
   "source": [
    "url = input('Enter -')\n",
    "html = urllib.request.urlopen(url,context = ctx).read()\n",
    "soup = BeautifulSoup(html, 'html.parser')\n",
    "\n",
    "#retrieve anchor tags\n",
    "z = soup('a')\n",
    "for a in z:\n",
    "    print(a.get('href',None))"
   ]
  },
  {
   "cell_type": "code",
   "execution_count": null,
   "id": "3246acf8",
   "metadata": {},
   "outputs": [],
   "source": []
  }
 ],
 "metadata": {
  "kernelspec": {
   "display_name": "Python 3 (ipykernel)",
   "language": "python",
   "name": "python3"
  },
  "language_info": {
   "codemirror_mode": {
    "name": "ipython",
    "version": 3
   },
   "file_extension": ".py",
   "mimetype": "text/x-python",
   "name": "python",
   "nbconvert_exporter": "python",
   "pygments_lexer": "ipython3",
   "version": "3.9.13"
  }
 },
 "nbformat": 4,
 "nbformat_minor": 5
}
